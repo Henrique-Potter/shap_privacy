{
 "cells": [
  {
   "cell_type": "code",
   "execution_count": 1,
   "id": "8aa2ce13",
   "metadata": {},
   "outputs": [
    {
     "name": "stdout",
     "output_type": "stream",
     "text": [
      "Num GPUs Available:  0\n"
     ]
    }
   ],
   "source": [
    "import time\n",
    "\n",
    "import pandas as pd\n",
    "import shap\n",
    "import numpy as np\n",
    "import tensorflow as tf\n",
    "from pathlib import Path\n",
    "\n",
    "from blume.table import table\n",
    "from scipy.cluster.vq import whiten\n",
    "from tqdm import tqdm\n",
    "from tensorflow.keras.models import load_model\n",
    "import matplotlib.pyplot as plt\n",
    "from data_processing import pre_process_data\n",
    "from obfuscation_functions import *\n",
    "from util.custom_functions import replace_outliers_by_std, mean_std_analysis, replace_outliers_by_quartile\n",
    "from shap_experiment import extract_shap, extract_shap_values, parse_shap_values_by_class\n"
   ]
  },
  {
   "cell_type": "code",
   "execution_count": 3,
   "id": "accaef2d",
   "metadata": {},
   "outputs": [
    {
     "name": "stdout",
     "output_type": "stream",
     "text": [
      "Pre-processing audio files!\n"
     ]
    },
    {
     "name": "stderr",
     "output_type": "stream",
     "text": [
      "100%|███████████████████████████████████████████| 6507/6507 [00:00<00:00, 2718089.45it/s]"
     ]
    },
    {
     "name": "stdout",
     "output_type": "stream",
     "text": [
      "Loading pre extracted raw audio from pkl file.\n"
     ]
    },
    {
     "name": "stderr",
     "output_type": "stream",
     "text": [
      "\n"
     ]
    },
    {
     "name": "stdout",
     "output_type": "stream",
     "text": [
      "Loading pre extracted raw audio from pkl file successful.\n",
      "Extracting mfccs from raw nd train audio data split.\n",
      "Train data found. Loading from npy file.\n",
      "Loading train successful.\n",
      "Extracting mfccs from raw nd test audio data split.\n",
      "Test data found. Loading from npy file.\n",
      "Loading test data successful.\n"
     ]
    },
    {
     "name": "stderr",
     "output_type": "stream",
     "text": [
      "100%|███████████████████████████████████████████| 6507/6507 [00:00<00:00, 3852129.31it/s]\n"
     ]
    },
    {
     "name": "stdout",
     "output_type": "stream",
     "text": [
      "Loading pre extracted raw audio from pkl file.\n",
      "Loading pre extracted raw audio from pkl file successful.\n",
      "Extracting mfccs from raw nd train audio data split.\n",
      "Train data found. Loading from npy file.\n",
      "Loading train successful.\n",
      "Extracting mfccs from raw nd test audio data split.\n",
      "Test data found. Loading from npy file.\n",
      "Loading test data successful.\n",
      "Pre-processing audio files Complete!\n"
     ]
    }
   ],
   "source": [
    "# datasets\n",
    "audio_files_path = \"./NNDatasets/audio\"\n",
    "gen_shap_df_path = './data/gen_shap_df.npy'\n",
    "emo_shap_df_path = './data/emo_shap_df.npy'\n",
    "print(\"Pre-processing audio files!\")\n",
    "x_train_emo_cnn, y_train_emo_encoded, x_test_emo_cnn, y_test_emo_encoded = pre_process_data(audio_files_path, get_emotion_label=True)\n",
    "x_train_gen_cnn, y_train_gen_encoded, x_test_gen_cnn, y_test_gen_encoded = pre_process_data(audio_files_path, get_emotion_label=False)\n",
    "print(\"Pre-processing audio files Complete!\")"
   ]
  },
  {
   "cell_type": "code",
   "execution_count": 6,
   "id": "5daaf079",
   "metadata": {},
   "outputs": [
    {
     "name": "stdout",
     "output_type": "stream",
     "text": [
      "Model: \"sequential\"\n",
      "_________________________________________________________________\n",
      "Layer (type)                 Output Shape              Param #   \n",
      "=================================================================\n",
      "dense (Dense)                (None, 128)               5248      \n",
      "_________________________________________________________________\n",
      "activation (Activation)      (None, 128)               0         \n",
      "_________________________________________________________________\n",
      "dropout (Dropout)            (None, 128)               0         \n",
      "_________________________________________________________________\n",
      "dense_1 (Dense)              (None, 64)                8256      \n",
      "_________________________________________________________________\n",
      "activation_1 (Activation)    (None, 64)                0         \n",
      "_________________________________________________________________\n",
      "dropout_1 (Dropout)          (None, 64)                0         \n",
      "_________________________________________________________________\n",
      "dense_2 (Dense)              (None, 16)                1040      \n",
      "_________________________________________________________________\n",
      "activation_2 (Activation)    (None, 16)                0         \n",
      "_________________________________________________________________\n",
      "dropout_2 (Dropout)          (None, 16)                0         \n",
      "_________________________________________________________________\n",
      "flatten (Flatten)            (None, 16)                0         \n",
      "_________________________________________________________________\n",
      "dense_3 (Dense)              (None, 2)                 34        \n",
      "_________________________________________________________________\n",
      "activation_3 (Activation)    (None, 2)                 0         \n",
      "=================================================================\n",
      "Total params: 14,578\n",
      "Trainable params: 14,578\n",
      "Non-trainable params: 0\n",
      "_________________________________________________________________\n"
     ]
    },
    {
     "name": "stderr",
     "output_type": "stream",
     "text": [
      "2022-01-25 14:31:44.841266: I tensorflow/core/platform/cpu_feature_guard.cc:142] This TensorFlow binary is optimized with oneAPI Deep Neural Network Library (oneDNN) to use the following CPU instructions in performance-critical operations:  SSE4.1 SSE4.2\n",
      "To enable them in other operations, rebuild TensorFlow with the appropriate compiler flags.\n"
     ]
    }
   ],
   "source": [
    "# from keras import Sequential\n",
    "from keras.layers import Conv2D, MaxPool2D\n",
    "from tensorflow.keras import optimizers\n",
    "from tensorflow.keras.models import Sequential\n",
    "from tensorflow.keras.layers import Dense\n",
    "from tensorflow.keras.layers import Flatten, Dropout, Activation\n",
    "\n",
    "model = Sequential()\n",
    "model.add(Dense(128, input_shape=(40, )))\n",
    "model.add(Activation('relu'))\n",
    "model.add(Dropout(0.2))\n",
    "model.add(Dense(64))\n",
    "model.add(Activation('relu'))\n",
    "model.add(Dropout(0.2))\n",
    "model.add(Dense(16))\n",
    "model.add(Activation('relu'))\n",
    "model.add(Dropout(0.2))\n",
    "model.add(Flatten())\n",
    "model.add(Dense(2))\n",
    "model.add(Activation('softmax'))\n",
    "opt = optimizers.Adam()\n",
    "model.compile(loss='binary_crossentropy', optimizer=opt, metrics=['accuracy'])\n",
    "model.summary()\n"
   ]
  },
  {
   "cell_type": "code",
   "execution_count": 9,
   "id": "bcf796e4",
   "metadata": {},
   "outputs": [],
   "source": [
    "from sklearn.preprocessing import StandardScaler\n",
    "sc = StandardScaler()\n",
    "x_train_emo_cnn = np.reshape(x_train_emo_cnn, (x_train_emo_cnn.shape[0], x_train_emo_cnn.shape[1]))\n",
    "x_test_emo_cnn = np.reshape(x_test_emo_cnn, (x_test_emo_cnn.shape[0], x_test_emo_cnn.shape[1]))\n",
    "\n",
    "x_train_emo_cnn_scaled = sc.fit_transform(x_train_emo_cnn)\n",
    "x_test_emo_cnn_scaled = sc.transform(x_test_emo_cnn)\n",
    "\n",
    "emo_train_dataset = tf.data.Dataset.from_tensor_slices((x_train_emo_cnn_scaled, y_train_emo_encoded))\n",
    "gen_train_dataset = tf.data.Dataset.from_tensor_slices((x_train_emo_cnn_scaled, y_train_gen_encoded))\n",
    "\n",
    "emo_test_dataset = tf.data.Dataset.from_tensor_slices((x_test_emo_cnn_scaled, y_test_emo_encoded))\n",
    "gen_test_dataset = tf.data.Dataset.from_tensor_slices((x_test_gen_cnn, y_test_gen_encoded))"
   ]
  },
  {
   "cell_type": "code",
   "execution_count": 10,
   "id": "c455cfd8",
   "metadata": {},
   "outputs": [],
   "source": [
    "batch_size = 4\n",
    "emo_train_dataset_batch = emo_train_dataset.batch(batch_size)\n",
    "gen_train_dataset_batch = gen_train_dataset.batch(batch_size)"
   ]
  },
  {
   "cell_type": "code",
   "execution_count": 12,
   "id": "55daf1c1",
   "metadata": {},
   "outputs": [
    {
     "name": "stdout",
     "output_type": "stream",
     "text": [
      "Epoch 1/100\n",
      "1135/1135 [==============================] - 1s 780us/step - loss: 0.0366 - accuracy: 0.9881 - val_loss: 0.0091 - val_accuracy: 0.9956\n",
      "Epoch 2/100\n",
      "1135/1135 [==============================] - 1s 731us/step - loss: 0.0216 - accuracy: 0.9929 - val_loss: 0.0063 - val_accuracy: 0.9982\n",
      "Epoch 3/100\n",
      "1135/1135 [==============================] - 1s 734us/step - loss: 0.0134 - accuracy: 0.9958 - val_loss: 0.0080 - val_accuracy: 0.9965\n",
      "Epoch 4/100\n",
      "1135/1135 [==============================] - 1s 733us/step - loss: 0.0172 - accuracy: 0.9941 - val_loss: 0.0034 - val_accuracy: 0.9991\n",
      "Epoch 5/100\n",
      "1135/1135 [==============================] - 1s 733us/step - loss: 0.0107 - accuracy: 0.9960 - val_loss: 0.0140 - val_accuracy: 0.9965\n",
      "Epoch 6/100\n",
      "1135/1135 [==============================] - 1s 739us/step - loss: 0.0104 - accuracy: 0.9963 - val_loss: 0.0043 - val_accuracy: 0.9991\n",
      "Epoch 7/100\n",
      "1135/1135 [==============================] - 1s 735us/step - loss: 0.0090 - accuracy: 0.9974 - val_loss: 0.0080 - val_accuracy: 0.9965\n",
      "Epoch 8/100\n",
      "1135/1135 [==============================] - 1s 733us/step - loss: 0.0101 - accuracy: 0.9971 - val_loss: 0.0173 - val_accuracy: 0.9947\n",
      "Epoch 9/100\n",
      "1135/1135 [==============================] - 1s 733us/step - loss: 0.0083 - accuracy: 0.9967 - val_loss: 0.0052 - val_accuracy: 0.9974\n",
      "Epoch 10/100\n",
      "1135/1135 [==============================] - 1s 743us/step - loss: 0.0047 - accuracy: 0.9987 - val_loss: 0.0043 - val_accuracy: 0.9982\n",
      "Epoch 11/100\n",
      "1135/1135 [==============================] - 1s 737us/step - loss: 0.0092 - accuracy: 0.9971 - val_loss: 0.0089 - val_accuracy: 0.9974\n",
      "Epoch 12/100\n",
      "1135/1135 [==============================] - 1s 742us/step - loss: 0.0066 - accuracy: 0.9985 - val_loss: 0.0038 - val_accuracy: 0.9982\n",
      "Epoch 13/100\n",
      "1135/1135 [==============================] - 1s 747us/step - loss: 0.0026 - accuracy: 0.9989 - val_loss: 0.0097 - val_accuracy: 0.9974\n",
      "Epoch 14/100\n",
      "1135/1135 [==============================] - 1s 734us/step - loss: 0.0083 - accuracy: 0.9976 - val_loss: 0.0042 - val_accuracy: 0.9982\n",
      "Epoch 15/100\n",
      "1135/1135 [==============================] - 1s 734us/step - loss: 0.0100 - accuracy: 0.9976 - val_loss: 0.0077 - val_accuracy: 0.9956\n",
      "Epoch 16/100\n",
      "1135/1135 [==============================] - 1s 736us/step - loss: 0.0023 - accuracy: 0.9996 - val_loss: 8.1988e-04 - val_accuracy: 1.0000\n",
      "Epoch 17/100\n",
      "1135/1135 [==============================] - 1s 734us/step - loss: 0.0020 - accuracy: 0.9993 - val_loss: 0.0051 - val_accuracy: 0.9991\n",
      "Epoch 18/100\n",
      "1135/1135 [==============================] - 1s 734us/step - loss: 0.0079 - accuracy: 0.9971 - val_loss: 0.0075 - val_accuracy: 0.9982\n",
      "Epoch 19/100\n",
      "1135/1135 [==============================] - 1s 737us/step - loss: 0.0089 - accuracy: 0.9980 - val_loss: 0.0087 - val_accuracy: 0.9974\n",
      "Epoch 20/100\n",
      "1135/1135 [==============================] - 1s 739us/step - loss: 0.0074 - accuracy: 0.9989 - val_loss: 0.0019 - val_accuracy: 0.9982\n",
      "Epoch 21/100\n",
      "1135/1135 [==============================] - 1s 836us/step - loss: 0.0075 - accuracy: 0.9989 - val_loss: 0.0106 - val_accuracy: 0.9974\n",
      "Epoch 22/100\n",
      "1135/1135 [==============================] - 1s 734us/step - loss: 0.0055 - accuracy: 0.9989 - val_loss: 0.0012 - val_accuracy: 0.9991\n",
      "Epoch 23/100\n",
      "1135/1135 [==============================] - 1s 735us/step - loss: 0.0095 - accuracy: 0.9991 - val_loss: 0.0034 - val_accuracy: 0.9991\n",
      "Epoch 24/100\n",
      "1135/1135 [==============================] - 1s 736us/step - loss: 0.0057 - accuracy: 0.9987 - val_loss: 0.0126 - val_accuracy: 0.9982\n",
      "Epoch 25/100\n",
      "1135/1135 [==============================] - 1s 736us/step - loss: 0.0013 - accuracy: 0.9993 - val_loss: 0.0038 - val_accuracy: 0.9982\n",
      "Epoch 26/100\n",
      "1135/1135 [==============================] - 1s 737us/step - loss: 0.0031 - accuracy: 0.9996 - val_loss: 0.0025 - val_accuracy: 0.9991\n",
      "Epoch 27/100\n",
      "1135/1135 [==============================] - 1s 733us/step - loss: 0.0059 - accuracy: 0.9982 - val_loss: 0.0137 - val_accuracy: 0.9974\n",
      "Epoch 28/100\n",
      "1135/1135 [==============================] - 1s 737us/step - loss: 0.0090 - accuracy: 0.9978 - val_loss: 0.0033 - val_accuracy: 0.9982\n",
      "Epoch 29/100\n",
      "1135/1135 [==============================] - 1s 732us/step - loss: 0.0020 - accuracy: 0.9996 - val_loss: 0.0084 - val_accuracy: 0.9982\n",
      "Epoch 30/100\n",
      "1135/1135 [==============================] - 1s 735us/step - loss: 0.0043 - accuracy: 0.9989 - val_loss: 0.0115 - val_accuracy: 0.9982\n",
      "Epoch 31/100\n",
      "1135/1135 [==============================] - 1s 739us/step - loss: 6.3117e-04 - accuracy: 0.9996 - val_loss: 0.0017 - val_accuracy: 0.9991\n",
      "Epoch 32/100\n",
      "1135/1135 [==============================] - 1s 736us/step - loss: 1.8011e-04 - accuracy: 1.0000 - val_loss: 0.0019 - val_accuracy: 0.9991\n",
      "Epoch 33/100\n",
      "1135/1135 [==============================] - 1s 737us/step - loss: 0.0043 - accuracy: 0.9991 - val_loss: 0.0121 - val_accuracy: 0.9991\n",
      "Epoch 34/100\n",
      "1135/1135 [==============================] - 1s 738us/step - loss: 0.0067 - accuracy: 0.9980 - val_loss: 0.0027 - val_accuracy: 0.9982\n",
      "Epoch 35/100\n",
      "1135/1135 [==============================] - 1s 738us/step - loss: 0.0024 - accuracy: 0.9993 - val_loss: 0.0070 - val_accuracy: 0.9982\n",
      "Epoch 36/100\n",
      "1135/1135 [==============================] - 1s 740us/step - loss: 0.0025 - accuracy: 0.9991 - val_loss: 0.0082 - val_accuracy: 0.9965\n",
      "Epoch 37/100\n",
      "1135/1135 [==============================] - 1s 735us/step - loss: 0.0025 - accuracy: 0.9993 - val_loss: 0.0104 - val_accuracy: 0.9974\n",
      "Epoch 38/100\n",
      "1135/1135 [==============================] - 1s 751us/step - loss: 0.0024 - accuracy: 0.9993 - val_loss: 0.0021 - val_accuracy: 0.9991\n",
      "Epoch 39/100\n",
      "1135/1135 [==============================] - 1s 740us/step - loss: 0.0093 - accuracy: 0.9989 - val_loss: 0.0024 - val_accuracy: 0.9982\n",
      "Epoch 40/100\n",
      "1135/1135 [==============================] - 1s 732us/step - loss: 0.0037 - accuracy: 0.9991 - val_loss: 0.0017 - val_accuracy: 0.9991\n",
      "Epoch 41/100\n",
      "1135/1135 [==============================] - 1s 737us/step - loss: 0.0019 - accuracy: 0.9996 - val_loss: 7.0212e-04 - val_accuracy: 1.0000\n",
      "Epoch 42/100\n",
      "1135/1135 [==============================] - 1s 736us/step - loss: 0.0032 - accuracy: 0.9989 - val_loss: 9.6437e-04 - val_accuracy: 1.0000\n",
      "Epoch 43/100\n",
      "1135/1135 [==============================] - 1s 736us/step - loss: 0.0011 - accuracy: 0.9996 - val_loss: 4.9557e-04 - val_accuracy: 1.0000\n",
      "Epoch 44/100\n",
      "1135/1135 [==============================] - 1s 742us/step - loss: 0.0013 - accuracy: 0.9993 - val_loss: 0.0012 - val_accuracy: 0.9991\n",
      "Epoch 45/100\n",
      "1135/1135 [==============================] - 1s 749us/step - loss: 0.0019 - accuracy: 0.9993 - val_loss: 0.0042 - val_accuracy: 0.9991\n",
      "Epoch 46/100\n",
      "1135/1135 [==============================] - 1s 747us/step - loss: 0.0027 - accuracy: 0.9989 - val_loss: 0.0011 - val_accuracy: 0.9991\n",
      "Epoch 47/100\n",
      "1135/1135 [==============================] - 1s 744us/step - loss: 0.0068 - accuracy: 0.9987 - val_loss: 0.0049 - val_accuracy: 0.9982\n",
      "Epoch 48/100\n",
      "1135/1135 [==============================] - 1s 743us/step - loss: 0.0062 - accuracy: 0.9987 - val_loss: 0.0011 - val_accuracy: 1.0000\n",
      "Epoch 49/100\n",
      "1135/1135 [==============================] - 1s 743us/step - loss: 5.0491e-04 - accuracy: 1.0000 - val_loss: 0.0019 - val_accuracy: 0.9991\n",
      "Epoch 50/100\n",
      "1135/1135 [==============================] - 1s 754us/step - loss: 0.0025 - accuracy: 0.9996 - val_loss: 0.0026 - val_accuracy: 0.9991\n",
      "Epoch 51/100\n",
      "1135/1135 [==============================] - 1s 747us/step - loss: 0.0035 - accuracy: 0.9991 - val_loss: 7.7915e-04 - val_accuracy: 1.0000\n",
      "Epoch 52/100\n",
      "1135/1135 [==============================] - 1s 752us/step - loss: 9.9971e-05 - accuracy: 1.0000 - val_loss: 9.2318e-04 - val_accuracy: 0.9991\n",
      "Epoch 53/100\n",
      "1135/1135 [==============================] - 1s 749us/step - loss: 0.0034 - accuracy: 0.9991 - val_loss: 8.2969e-04 - val_accuracy: 1.0000\n",
      "Epoch 54/100\n",
      "1135/1135 [==============================] - 1s 776us/step - loss: 0.0011 - accuracy: 0.9996 - val_loss: 0.0161 - val_accuracy: 0.9956\n",
      "Epoch 55/100\n",
      "1135/1135 [==============================] - 1s 729us/step - loss: 0.0045 - accuracy: 0.9989 - val_loss: 0.0170 - val_accuracy: 0.9965\n",
      "Epoch 56/100\n"
     ]
    },
    {
     "name": "stdout",
     "output_type": "stream",
     "text": [
      "1135/1135 [==============================] - 1s 781us/step - loss: 0.0030 - accuracy: 0.9991 - val_loss: 0.0011 - val_accuracy: 0.9991\n",
      "Epoch 57/100\n",
      "1135/1135 [==============================] - 1s 743us/step - loss: 0.0022 - accuracy: 0.9998 - val_loss: 0.0065 - val_accuracy: 0.9982\n",
      "Epoch 58/100\n",
      "1135/1135 [==============================] - 1s 736us/step - loss: 8.7526e-05 - accuracy: 1.0000 - val_loss: 0.0022 - val_accuracy: 0.9982\n",
      "Epoch 59/100\n",
      "1135/1135 [==============================] - 1s 731us/step - loss: 0.0062 - accuracy: 0.9987 - val_loss: 0.0083 - val_accuracy: 0.9982\n",
      "Epoch 60/100\n",
      "1135/1135 [==============================] - 1s 736us/step - loss: 6.0636e-04 - accuracy: 0.9998 - val_loss: 0.0011 - val_accuracy: 0.9991\n",
      "Epoch 61/100\n",
      "1135/1135 [==============================] - 1s 738us/step - loss: 0.0041 - accuracy: 0.9991 - val_loss: 0.0026 - val_accuracy: 0.9982\n",
      "Epoch 62/100\n",
      "1135/1135 [==============================] - 1s 737us/step - loss: 0.0052 - accuracy: 0.9989 - val_loss: 0.0013 - val_accuracy: 0.9991\n",
      "Epoch 63/100\n",
      "1135/1135 [==============================] - 1s 735us/step - loss: 0.0017 - accuracy: 0.9991 - val_loss: 0.0090 - val_accuracy: 0.9974\n",
      "Epoch 64/100\n",
      "1135/1135 [==============================] - 1s 731us/step - loss: 5.3786e-04 - accuracy: 0.9998 - val_loss: 0.0020 - val_accuracy: 0.9991\n",
      "Epoch 65/100\n",
      "1135/1135 [==============================] - 1s 737us/step - loss: 5.1477e-04 - accuracy: 1.0000 - val_loss: 3.4982e-04 - val_accuracy: 1.0000\n",
      "Epoch 66/100\n",
      "1135/1135 [==============================] - 1s 733us/step - loss: 0.0014 - accuracy: 0.9996 - val_loss: 0.0058 - val_accuracy: 0.9982\n",
      "Epoch 67/100\n",
      "1135/1135 [==============================] - 1s 741us/step - loss: 0.0052 - accuracy: 0.9993 - val_loss: 0.0017 - val_accuracy: 0.9991\n",
      "Epoch 68/100\n",
      "1135/1135 [==============================] - 1s 736us/step - loss: 0.0011 - accuracy: 0.9993 - val_loss: 0.0067 - val_accuracy: 0.9982\n",
      "Epoch 69/100\n",
      "1135/1135 [==============================] - 1s 740us/step - loss: 0.0045 - accuracy: 0.9989 - val_loss: 0.0064 - val_accuracy: 0.9982\n",
      "Epoch 70/100\n",
      "1135/1135 [==============================] - 1s 735us/step - loss: 0.0015 - accuracy: 0.9991 - val_loss: 0.0052 - val_accuracy: 0.9982\n",
      "Epoch 71/100\n",
      "1135/1135 [==============================] - 1s 741us/step - loss: 0.0025 - accuracy: 0.9993 - val_loss: 0.0023 - val_accuracy: 0.9991\n",
      "Epoch 72/100\n",
      "1135/1135 [==============================] - 1s 735us/step - loss: 0.0023 - accuracy: 0.9996 - val_loss: 0.0045 - val_accuracy: 0.9974\n",
      "Epoch 73/100\n",
      "1135/1135 [==============================] - 1s 747us/step - loss: 8.8526e-04 - accuracy: 0.9998 - val_loss: 0.0138 - val_accuracy: 0.9974\n",
      "Epoch 74/100\n",
      "1135/1135 [==============================] - 1s 737us/step - loss: 5.6127e-04 - accuracy: 0.9996 - val_loss: 0.0043 - val_accuracy: 0.9991\n",
      "Epoch 75/100\n",
      "1135/1135 [==============================] - 1s 734us/step - loss: 1.5280e-05 - accuracy: 1.0000 - val_loss: 0.0062 - val_accuracy: 0.9991\n",
      "Epoch 76/100\n",
      "1135/1135 [==============================] - 1s 772us/step - loss: 0.0032 - accuracy: 0.9998 - val_loss: 0.0061 - val_accuracy: 0.9991\n",
      "Epoch 77/100\n",
      "1135/1135 [==============================] - 1s 722us/step - loss: 0.0017 - accuracy: 0.9996 - val_loss: 0.0028 - val_accuracy: 0.9991\n",
      "Epoch 78/100\n",
      "1135/1135 [==============================] - 1s 738us/step - loss: 0.0017 - accuracy: 0.9993 - val_loss: 0.0030 - val_accuracy: 0.9991\n",
      "Epoch 79/100\n",
      "1135/1135 [==============================] - 1s 735us/step - loss: 1.1356e-04 - accuracy: 1.0000 - val_loss: 0.0082 - val_accuracy: 0.9991\n",
      "Epoch 80/100\n",
      "1135/1135 [==============================] - 1s 731us/step - loss: 1.6759e-04 - accuracy: 1.0000 - val_loss: 0.0067 - val_accuracy: 0.9991\n",
      "Epoch 81/100\n",
      "1135/1135 [==============================] - 1s 724us/step - loss: 1.1494e-05 - accuracy: 1.0000 - val_loss: 0.0055 - val_accuracy: 0.9982\n",
      "Epoch 82/100\n",
      "1135/1135 [==============================] - 1s 729us/step - loss: 0.0048 - accuracy: 0.9996 - val_loss: 0.0017 - val_accuracy: 0.9991\n",
      "Epoch 83/100\n",
      "1135/1135 [==============================] - 1s 729us/step - loss: 0.0057 - accuracy: 0.9991 - val_loss: 0.0024 - val_accuracy: 0.9991\n",
      "Epoch 84/100\n",
      "1135/1135 [==============================] - 1s 736us/step - loss: 3.1827e-05 - accuracy: 1.0000 - val_loss: 0.0041 - val_accuracy: 0.9991\n",
      "Epoch 85/100\n",
      "1135/1135 [==============================] - 1s 719us/step - loss: 2.3580e-05 - accuracy: 1.0000 - val_loss: 0.0049 - val_accuracy: 0.9991\n",
      "Epoch 86/100\n",
      "1135/1135 [==============================] - 1s 717us/step - loss: 0.0030 - accuracy: 0.9991 - val_loss: 0.0021 - val_accuracy: 0.9991\n",
      "Epoch 87/100\n",
      "1135/1135 [==============================] - 1s 720us/step - loss: 0.0013 - accuracy: 0.9993 - val_loss: 0.0019 - val_accuracy: 0.9991\n",
      "Epoch 88/100\n",
      "1135/1135 [==============================] - 1s 719us/step - loss: 2.4255e-04 - accuracy: 1.0000 - val_loss: 9.3964e-04 - val_accuracy: 0.9991\n",
      "Epoch 89/100\n",
      "1135/1135 [==============================] - 1s 718us/step - loss: 7.6215e-04 - accuracy: 0.9998 - val_loss: 0.0015 - val_accuracy: 0.9991\n",
      "Epoch 90/100\n",
      "1135/1135 [==============================] - 1s 717us/step - loss: 0.0083 - accuracy: 0.9989 - val_loss: 0.0021 - val_accuracy: 0.9991\n",
      "Epoch 91/100\n",
      "1135/1135 [==============================] - 1s 714us/step - loss: 1.9652e-04 - accuracy: 1.0000 - val_loss: 0.0043 - val_accuracy: 0.9991\n",
      "Epoch 92/100\n",
      "1135/1135 [==============================] - 1s 714us/step - loss: 0.0133 - accuracy: 0.9980 - val_loss: 0.0039 - val_accuracy: 0.9982\n",
      "Epoch 93/100\n",
      "1135/1135 [==============================] - 1s 721us/step - loss: 1.1610e-04 - accuracy: 1.0000 - val_loss: 0.0036 - val_accuracy: 0.9974\n",
      "Epoch 94/100\n",
      "1135/1135 [==============================] - 1s 720us/step - loss: 1.2275e-04 - accuracy: 1.0000 - val_loss: 0.0033 - val_accuracy: 0.9982\n",
      "Epoch 95/100\n",
      "1135/1135 [==============================] - 1s 727us/step - loss: 7.8353e-05 - accuracy: 1.0000 - val_loss: 0.0065 - val_accuracy: 0.9974\n",
      "Epoch 96/100\n",
      "1135/1135 [==============================] - 1s 728us/step - loss: 8.2847e-04 - accuracy: 0.9996 - val_loss: 0.0053 - val_accuracy: 0.9982\n",
      "Epoch 97/100\n",
      "1135/1135 [==============================] - 1s 723us/step - loss: 0.0017 - accuracy: 0.9996 - val_loss: 0.0060 - val_accuracy: 0.9974\n",
      "Epoch 98/100\n",
      "1135/1135 [==============================] - 1s 724us/step - loss: 2.5728e-05 - accuracy: 1.0000 - val_loss: 0.0097 - val_accuracy: 0.9974\n",
      "Epoch 99/100\n",
      "1135/1135 [==============================] - 1s 723us/step - loss: 0.0021 - accuracy: 0.9993 - val_loss: 0.0096 - val_accuracy: 0.9974\n",
      "Epoch 100/100\n",
      "1135/1135 [==============================] - 1s 722us/step - loss: 5.9404e-04 - accuracy: 0.9998 - val_loss: 0.0060 - val_accuracy: 0.9982\n"
     ]
    }
   ],
   "source": [
    "cnnhistory = model.fit(x_train_emo_cnn_scaled, y_train_gen_encoded, batch_size=4, epochs=100, validation_data=(x_test_emo_cnn_scaled, y_test_gen_encoded))\n",
    "# Save the weights\n",
    "#model.save(model_path)\n",
    "    "
   ]
  },
  {
   "cell_type": "code",
   "execution_count": 16,
   "id": "495b1245",
   "metadata": {},
   "outputs": [],
   "source": [
    "model.save(\"gmodel_checkpoint/gender_model_simple.h5\")"
   ]
  },
  {
   "cell_type": "code",
   "execution_count": 17,
   "id": "f104f359",
   "metadata": {},
   "outputs": [
    {
     "name": "stdout",
     "output_type": "stream",
     "text": [
      "36/36 [==============================] - 0s 826us/step - loss: 0.0060 - accuracy: 0.9982\n"
     ]
    },
    {
     "data": {
      "text/plain": [
       "[0.006006975192576647, 0.9982379078865051]"
      ]
     },
     "execution_count": 17,
     "metadata": {},
     "output_type": "execute_result"
    }
   ],
   "source": [
    "model.evaluate(x_test_emo_cnn_scaled, y_test_gen_encoded)"
   ]
  },
  {
   "cell_type": "code",
   "execution_count": null,
   "id": "8043821f",
   "metadata": {},
   "outputs": [],
   "source": []
  }
 ],
 "metadata": {
  "kernelspec": {
   "display_name": "Python 3 (ipykernel)",
   "language": "python",
   "name": "python3"
  },
  "language_info": {
   "codemirror_mode": {
    "name": "ipython",
    "version": 3
   },
   "file_extension": ".py",
   "mimetype": "text/x-python",
   "name": "python",
   "nbconvert_exporter": "python",
   "pygments_lexer": "ipython3",
   "version": "3.9.9"
  }
 },
 "nbformat": 4,
 "nbformat_minor": 5
}
